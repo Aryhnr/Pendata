{
  "cells": [
    {
      "cell_type": "markdown",
      "source": [
        "# UTS"
      ],
      "metadata": {
        "id": "ZG9jAmVNHTc2"
      }
    },
    {
      "cell_type": "markdown",
      "metadata": {
        "id": "U3vBesXnOuhv"
      },
      "source": [
        "\n",
        "1. Lakukan analisa data klasifikasi dengan sumber data https://github.com/datasets/breast-cancer/blob/master/data/breast-cancer.csv dengan menggunakan naive bayes dan knn untuk data  \n",
        "2. Jelakan proses tersebut dengan menulisnya di blog github yang anda telah miliki ( jupyter book).\n",
        "3. Upload alamat blog github anda di schoology"
      ]
    },
    {
      "cell_type": "code",
      "execution_count": null,
      "metadata": {
        "id": "Jip5b3p65bsB"
      },
      "outputs": [],
      "source": [
        "import pandas as pd\n",
        "from sklearn.model_selection import train_test_split\n",
        "from sklearn.naive_bayes import GaussianNB\n",
        "from sklearn.neighbors import KNeighborsClassifier\n",
        "from sklearn.metrics import accuracy_score\n",
        "from sklearn.metrics import confusion_matrix"
      ]
    },
    {
      "cell_type": "code",
      "execution_count": null,
      "metadata": {
        "colab": {
          "base_uri": "https://localhost:8080/"
        },
        "id": "PncQQimiF17Z",
        "outputId": "a237fd2e-910a-4550-f0d0-b0d5783b633a"
      },
      "outputs": [
        {
          "name": "stdout",
          "output_type": "stream",
          "text": [
            "     age mefalsepause tumor-size inv-falsedes falsede-caps  deg-malig breast  \\\n",
            "0  40-49   premefalse      15-19          0-2         True          3  right   \n",
            "1  50-59         ge40      15-19          0-2        False          1  right   \n",
            "2  50-59         ge40      35-39          0-2        False          2   left   \n",
            "3  40-49   premefalse      35-39          0-2         True          3  right   \n",
            "4  40-49   premefalse      30-34          3-5         True          2   left   \n",
            "\n",
            "  breast-quad  irradiat                    class  \n",
            "0     left_up     False        recurrence-events  \n",
            "1     central     False  false-recurrence-events  \n",
            "2    left_low     False        recurrence-events  \n",
            "3    left_low      True  false-recurrence-events  \n",
            "4    right_up     False        recurrence-events  \n"
          ]
        }
      ],
      "source": [
        "# Baca dataset\n",
        "url = \"https://raw.githubusercontent.com/datasets/breast-cancer/master/data/breast-cancer.csv\"\n",
        "df = pd.read_csv(url)\n",
        "print(df.head(5))\n",
        "# Mengubah fitur kategorikal menjadi numerik dengan one-hot encoding\n",
        "df_encoded = pd.get_dummies(df, columns=['age', 'mefalsepause', 'tumor-size', 'inv-falsedes', 'falsede-caps', 'deg-malig', 'breast', 'breast-quad', 'irradiat'])\n",
        "# Pisahkan fitur dan target\n",
        "X = df_encoded.drop('class', axis=1)\n",
        "y = df_encoded['class']"
      ]
    },
    {
      "cell_type": "code",
      "execution_count": null,
      "metadata": {
        "colab": {
          "base_uri": "https://localhost:8080/",
          "height": 74
        },
        "id": "z2c0HqVfF-9e",
        "outputId": "7abf5d5b-9aeb-48da-de46-70cf4038fcf8"
      },
      "outputs": [
        {
          "data": {
            "text/html": [
              "<style>#sk-container-id-1 {color: black;background-color: white;}#sk-container-id-1 pre{padding: 0;}#sk-container-id-1 div.sk-toggleable {background-color: white;}#sk-container-id-1 label.sk-toggleable__label {cursor: pointer;display: block;width: 100%;margin-bottom: 0;padding: 0.3em;box-sizing: border-box;text-align: center;}#sk-container-id-1 label.sk-toggleable__label-arrow:before {content: \"▸\";float: left;margin-right: 0.25em;color: #696969;}#sk-container-id-1 label.sk-toggleable__label-arrow:hover:before {color: black;}#sk-container-id-1 div.sk-estimator:hover label.sk-toggleable__label-arrow:before {color: black;}#sk-container-id-1 div.sk-toggleable__content {max-height: 0;max-width: 0;overflow: hidden;text-align: left;background-color: #f0f8ff;}#sk-container-id-1 div.sk-toggleable__content pre {margin: 0.2em;color: black;border-radius: 0.25em;background-color: #f0f8ff;}#sk-container-id-1 input.sk-toggleable__control:checked~div.sk-toggleable__content {max-height: 200px;max-width: 100%;overflow: auto;}#sk-container-id-1 input.sk-toggleable__control:checked~label.sk-toggleable__label-arrow:before {content: \"▾\";}#sk-container-id-1 div.sk-estimator input.sk-toggleable__control:checked~label.sk-toggleable__label {background-color: #d4ebff;}#sk-container-id-1 div.sk-label input.sk-toggleable__control:checked~label.sk-toggleable__label {background-color: #d4ebff;}#sk-container-id-1 input.sk-hidden--visually {border: 0;clip: rect(1px 1px 1px 1px);clip: rect(1px, 1px, 1px, 1px);height: 1px;margin: -1px;overflow: hidden;padding: 0;position: absolute;width: 1px;}#sk-container-id-1 div.sk-estimator {font-family: monospace;background-color: #f0f8ff;border: 1px dotted black;border-radius: 0.25em;box-sizing: border-box;margin-bottom: 0.5em;}#sk-container-id-1 div.sk-estimator:hover {background-color: #d4ebff;}#sk-container-id-1 div.sk-parallel-item::after {content: \"\";width: 100%;border-bottom: 1px solid gray;flex-grow: 1;}#sk-container-id-1 div.sk-label:hover label.sk-toggleable__label {background-color: #d4ebff;}#sk-container-id-1 div.sk-serial::before {content: \"\";position: absolute;border-left: 1px solid gray;box-sizing: border-box;top: 0;bottom: 0;left: 50%;z-index: 0;}#sk-container-id-1 div.sk-serial {display: flex;flex-direction: column;align-items: center;background-color: white;padding-right: 0.2em;padding-left: 0.2em;position: relative;}#sk-container-id-1 div.sk-item {position: relative;z-index: 1;}#sk-container-id-1 div.sk-parallel {display: flex;align-items: stretch;justify-content: center;background-color: white;position: relative;}#sk-container-id-1 div.sk-item::before, #sk-container-id-1 div.sk-parallel-item::before {content: \"\";position: absolute;border-left: 1px solid gray;box-sizing: border-box;top: 0;bottom: 0;left: 50%;z-index: -1;}#sk-container-id-1 div.sk-parallel-item {display: flex;flex-direction: column;z-index: 1;position: relative;background-color: white;}#sk-container-id-1 div.sk-parallel-item:first-child::after {align-self: flex-end;width: 50%;}#sk-container-id-1 div.sk-parallel-item:last-child::after {align-self: flex-start;width: 50%;}#sk-container-id-1 div.sk-parallel-item:only-child::after {width: 0;}#sk-container-id-1 div.sk-dashed-wrapped {border: 1px dashed gray;margin: 0 0.4em 0.5em 0.4em;box-sizing: border-box;padding-bottom: 0.4em;background-color: white;}#sk-container-id-1 div.sk-label label {font-family: monospace;font-weight: bold;display: inline-block;line-height: 1.2em;}#sk-container-id-1 div.sk-label-container {text-align: center;}#sk-container-id-1 div.sk-container {/* jupyter's `normalize.less` sets `[hidden] { display: none; }` but bootstrap.min.css set `[hidden] { display: none !important; }` so we also need the `!important` here to be able to override the default hidden behavior on the sphinx rendered scikit-learn.org. See: https://github.com/scikit-learn/scikit-learn/issues/21755 */display: inline-block !important;position: relative;}#sk-container-id-1 div.sk-text-repr-fallback {display: none;}</style><div id=\"sk-container-id-1\" class=\"sk-top-container\"><div class=\"sk-text-repr-fallback\"><pre>GaussianNB()</pre><b>In a Jupyter environment, please rerun this cell to show the HTML representation or trust the notebook. <br />On GitHub, the HTML representation is unable to render, please try loading this page with nbviewer.org.</b></div><div class=\"sk-container\" hidden><div class=\"sk-item\"><div class=\"sk-estimator sk-toggleable\"><input class=\"sk-toggleable__control sk-hidden--visually\" id=\"sk-estimator-id-1\" type=\"checkbox\" checked><label for=\"sk-estimator-id-1\" class=\"sk-toggleable__label sk-toggleable__label-arrow\">GaussianNB</label><div class=\"sk-toggleable__content\"><pre>GaussianNB()</pre></div></div></div></div></div>"
            ],
            "text/plain": [
              "GaussianNB()"
            ]
          },
          "execution_count": 3,
          "metadata": {},
          "output_type": "execute_result"
        }
      ],
      "source": [
        "# Membagi data menjadi training set dan test set\n",
        "X_train, X_test, y_train, y_test = train_test_split(X, y, test_size=0.2, random_state=42)\n",
        "\n",
        "# Membuat objek klasifikasi Naive Bayes\n",
        "naive_bayes = GaussianNB()\n",
        "\n",
        "# Melatih model menggunakan training set\n",
        "naive_bayes.fit(X_train, y_train)"
      ]
    },
    {
      "cell_type": "code",
      "execution_count": null,
      "metadata": {
        "colab": {
          "base_uri": "https://localhost:8080/"
        },
        "id": "v9X-pTvUGKU_",
        "outputId": "0f9d6617-88da-4dd2-c2b4-8b41a41461b2"
      },
      "outputs": [
        {
          "name": "stdout",
          "output_type": "stream",
          "text": [
            "prediksi :\n",
            "['recurrence-events' 'recurrence-events' 'recurrence-events'\n",
            " 'recurrence-events' 'recurrence-events' 'recurrence-events'\n",
            " 'false-recurrence-events' 'recurrence-events' 'recurrence-events'\n",
            " 'recurrence-events' 'recurrence-events' 'recurrence-events'\n",
            " 'recurrence-events' 'recurrence-events' 'recurrence-events'\n",
            " 'recurrence-events' 'recurrence-events' 'recurrence-events'\n",
            " 'recurrence-events' 'recurrence-events' 'false-recurrence-events'\n",
            " 'recurrence-events' 'recurrence-events' 'recurrence-events'\n",
            " 'recurrence-events' 'recurrence-events' 'false-recurrence-events'\n",
            " 'recurrence-events' 'recurrence-events' 'recurrence-events'\n",
            " 'recurrence-events' 'false-recurrence-events' 'recurrence-events'\n",
            " 'recurrence-events' 'recurrence-events' 'recurrence-events'\n",
            " 'recurrence-events' 'recurrence-events' 'false-recurrence-events'\n",
            " 'recurrence-events' 'false-recurrence-events' 'recurrence-events'\n",
            " 'recurrence-events' 'false-recurrence-events' 'recurrence-events'\n",
            " 'recurrence-events' 'recurrence-events' 'recurrence-events'\n",
            " 'false-recurrence-events' 'recurrence-events' 'recurrence-events'\n",
            " 'recurrence-events' 'recurrence-events' 'recurrence-events'\n",
            " 'recurrence-events']\n"
          ]
        }
      ],
      "source": [
        "# Memprediksi label dari data test\n",
        "y_pred = naive_bayes.predict(X_test)\n",
        "print('prediksi :')\n",
        "print(y_pred)"
      ]
    },
    {
      "cell_type": "code",
      "execution_count": null,
      "metadata": {
        "colab": {
          "base_uri": "https://localhost:8080/"
        },
        "id": "iNtbya2FGPFF",
        "outputId": "95d7797b-0760-498c-9971-5a2f81453d8f"
      },
      "outputs": [
        {
          "name": "stdout",
          "output_type": "stream",
          "text": [
            "Akurasi Naive Bayes: 0.32727272727272727\n",
            "[[ 6 35]\n",
            " [ 2 12]]\n"
          ]
        }
      ],
      "source": [
        "# Menghitung akurasi prediksi\n",
        "accuracy = accuracy_score(y_test, y_pred)\n",
        "print(\"Akurasi Naive Bayes:\", accuracy)\n",
        "print(confusion_matrix(y_test, y_pred))"
      ]
    },
    {
      "cell_type": "code",
      "execution_count": null,
      "metadata": {
        "colab": {
          "base_uri": "https://localhost:8080/"
        },
        "id": "L8LjINggGTkR",
        "outputId": "74a091af-d2d6-4a8d-e60e-9f6aa0459cd2"
      },
      "outputs": [
        {
          "name": "stdout",
          "output_type": "stream",
          "text": [
            "['false-recurrence-events' 'false-recurrence-events'\n",
            " 'false-recurrence-events' 'false-recurrence-events'\n",
            " 'false-recurrence-events' 'false-recurrence-events'\n",
            " 'false-recurrence-events' 'false-recurrence-events'\n",
            " 'false-recurrence-events' 'false-recurrence-events'\n",
            " 'false-recurrence-events' 'false-recurrence-events' 'recurrence-events'\n",
            " 'false-recurrence-events' 'false-recurrence-events' 'recurrence-events'\n",
            " 'false-recurrence-events' 'false-recurrence-events'\n",
            " 'false-recurrence-events' 'recurrence-events' 'false-recurrence-events'\n",
            " 'recurrence-events' 'false-recurrence-events' 'recurrence-events'\n",
            " 'false-recurrence-events' 'false-recurrence-events'\n",
            " 'false-recurrence-events' 'false-recurrence-events'\n",
            " 'false-recurrence-events' 'false-recurrence-events'\n",
            " 'false-recurrence-events' 'false-recurrence-events' 'recurrence-events'\n",
            " 'recurrence-events' 'recurrence-events' 'false-recurrence-events'\n",
            " 'false-recurrence-events' 'false-recurrence-events'\n",
            " 'false-recurrence-events' 'recurrence-events' 'false-recurrence-events'\n",
            " 'false-recurrence-events' 'false-recurrence-events'\n",
            " 'false-recurrence-events' 'false-recurrence-events' 'recurrence-events'\n",
            " 'false-recurrence-events' 'false-recurrence-events'\n",
            " 'false-recurrence-events' 'false-recurrence-events'\n",
            " 'false-recurrence-events' 'false-recurrence-events'\n",
            " 'false-recurrence-events' 'false-recurrence-events' 'recurrence-events']\n",
            "Akurasi KNN: 0.7272727272727273\n",
            "[[35  6]\n",
            " [ 9  5]]\n"
          ]
        }
      ],
      "source": [
        "knn = KNeighborsClassifier(n_neighbors=5)\n",
        "# Melatih model menggunakan training set\n",
        "knn.fit(X_train, y_train)\n",
        "# Memprediksi label dari data test\n",
        "y_pred = knn.predict(X_test)\n",
        "print(y_pred)\n",
        "# Menghitung akurasi prediksi\n",
        "accuracy = accuracy_score(y_test, y_pred)\n",
        "print(\"Akurasi KNN:\", accuracy)\n",
        "print(confusion_matrix(y_test, y_pred))\n"
      ]
    }
  ],
  "metadata": {
    "colab": {
      "provenance": []
    },
    "kernelspec": {
      "display_name": "Python 3 (ipykernel)",
      "language": "python",
      "name": "python3"
    },
    "language_info": {
      "codemirror_mode": {
        "name": "ipython",
        "version": 3
      },
      "file_extension": ".py",
      "mimetype": "text/x-python",
      "name": "python",
      "nbconvert_exporter": "python",
      "pygments_lexer": "ipython3",
      "version": "3.10.11"
    }
  },
  "nbformat": 4,
  "nbformat_minor": 0
}