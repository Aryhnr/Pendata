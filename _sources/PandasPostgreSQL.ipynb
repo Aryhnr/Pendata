{
  "cells": [
    {
      "cell_type": "markdown",
      "id": "456be015",
      "metadata": {
        "id": "456be015"
      },
      "source": [
        "# Dataframe Pandas PostgreSQl"
      ]
    },
    {
      "cell_type": "code",
      "execution_count": null,
      "id": "eab91d1c-d4da-4d36-a721-7faf7df14f21",
      "metadata": {
        "scrolled": true,
        "tags": [],
        "id": "eab91d1c-d4da-4d36-a721-7faf7df14f21",
        "outputId": "a91423ee-54cf-4653-e7d5-d0a4bacf4e93"
      },
      "outputs": [
        {
          "name": "stdout",
          "output_type": "stream",
          "text": [
            "Requirement already satisfied: psycopg2 in c:\\users\\lenovo\\appdata\\local\\programs\\python\\python310\\lib\\site-packages (2.9.5)"
          ]
        },
        {
          "name": "stderr",
          "output_type": "stream",
          "text": [
            "WARNING: You are using pip version 22.0.4; however, version 23.0.1 is available.\n",
            "You should consider upgrading via the 'C:\\Users\\LENOVO\\AppData\\Local\\Programs\\Python\\Python310\\python.exe -m pip install --upgrade pip' command.\n"
          ]
        },
        {
          "name": "stdout",
          "output_type": "stream",
          "text": [
            "\n"
          ]
        }
      ],
      "source": [
        "!pip install psycopg2"
      ]
    },
    {
      "cell_type": "code",
      "execution_count": null,
      "id": "ab497aff-411f-4fb9-9809-ed0504dd5921",
      "metadata": {
        "tags": [],
        "id": "ab497aff-411f-4fb9-9809-ed0504dd5921",
        "outputId": "f48847da-332a-4bfb-8888-b68839e9be10"
      },
      "outputs": [
        {
          "name": "stdout",
          "output_type": "stream",
          "text": [
            "Collecting psycopg2-binary\n",
            "  Downloading psycopg2_binary-2.9.5-cp310-cp310-win_amd64.whl (1.2 MB)\n",
            "     ---------------------------------------- 1.2/1.2 MB 1.1 MB/s eta 0:00:00\n",
            "Installing collected packages: psycopg2-binary\n",
            "Successfully installed psycopg2-binary-2.9.5\n"
          ]
        },
        {
          "name": "stderr",
          "output_type": "stream",
          "text": [
            "WARNING: You are using pip version 22.0.4; however, version 23.0.1 is available.\n",
            "You should consider upgrading via the 'C:\\Users\\LENOVO\\AppData\\Local\\Programs\\Python\\Python310\\python.exe -m pip install --upgrade pip' command.\n"
          ]
        }
      ],
      "source": [
        "!pip install psycopg2-binary"
      ]
    },
    {
      "cell_type": "code",
      "execution_count": null,
      "id": "4cf8d3ab-c7b9-49a3-aaa2-d6171aa6be59",
      "metadata": {
        "tags": [],
        "id": "4cf8d3ab-c7b9-49a3-aaa2-d6171aa6be59",
        "outputId": "acd6a4c2-1bc2-4c9b-bedd-5db5e12b0dc6"
      },
      "outputs": [
        {
          "data": {
            "text/html": [
              "<div>\n",
              "<style scoped>\n",
              "    .dataframe tbody tr th:only-of-type {\n",
              "        vertical-align: middle;\n",
              "    }\n",
              "\n",
              "    .dataframe tbody tr th {\n",
              "        vertical-align: top;\n",
              "    }\n",
              "\n",
              "    .dataframe thead th {\n",
              "        text-align: right;\n",
              "    }\n",
              "</style>\n",
              "<table border=\"1\" class=\"dataframe\">\n",
              "  <thead>\n",
              "    <tr style=\"text-align: right;\">\n",
              "      <th></th>\n",
              "      <th>sepal_length</th>\n",
              "      <th>sepal_width</th>\n",
              "      <th>petal_length</th>\n",
              "      <th>petal_width</th>\n",
              "      <th>variety</th>\n",
              "    </tr>\n",
              "  </thead>\n",
              "  <tbody>\n",
              "    <tr>\n",
              "      <th>0</th>\n",
              "      <td>5.1</td>\n",
              "      <td>3.5</td>\n",
              "      <td>1.4</td>\n",
              "      <td>0.2</td>\n",
              "      <td>Setosa</td>\n",
              "    </tr>\n",
              "    <tr>\n",
              "      <th>1</th>\n",
              "      <td>4.9</td>\n",
              "      <td>3</td>\n",
              "      <td>1.4</td>\n",
              "      <td>0.2</td>\n",
              "      <td>Setosa</td>\n",
              "    </tr>\n",
              "    <tr>\n",
              "      <th>2</th>\n",
              "      <td>4.7</td>\n",
              "      <td>3.2</td>\n",
              "      <td>1.3</td>\n",
              "      <td>0.2</td>\n",
              "      <td>Setosa</td>\n",
              "    </tr>\n",
              "    <tr>\n",
              "      <th>3</th>\n",
              "      <td>4.6</td>\n",
              "      <td>3.1</td>\n",
              "      <td>1.5</td>\n",
              "      <td>0.2</td>\n",
              "      <td>Setosa</td>\n",
              "    </tr>\n",
              "    <tr>\n",
              "      <th>4</th>\n",
              "      <td>5</td>\n",
              "      <td>3.6</td>\n",
              "      <td>1.4</td>\n",
              "      <td>0.2</td>\n",
              "      <td>Setosa</td>\n",
              "    </tr>\n",
              "  </tbody>\n",
              "</table>\n",
              "</div>"
            ],
            "text/plain": [
              "  sepal_length sepal_width petal_length petal_width variety\n",
              "0          5.1         3.5          1.4         0.2  Setosa\n",
              "1          4.9           3          1.4         0.2  Setosa\n",
              "2          4.7         3.2          1.3         0.2  Setosa\n",
              "3          4.6         3.1          1.5         0.2  Setosa\n",
              "4            5         3.6          1.4         0.2  Setosa"
            ]
          },
          "execution_count": 28,
          "metadata": {},
          "output_type": "execute_result"
        }
      ],
      "source": [
        "import psycopg2\n",
        "import pandas as pd\n",
        "koneksi = psycopg2.connect(user=\"postgres\", password=\"20072003\", host=\"127.0.0.1\", port=\"5432\", database=\"postgres\")\n",
        "curr=koneksi.cursor()\n",
        "curr.execute(\"SELECT * FROM public.iris_dataset;\")\n",
        "hasil=curr.fetchall()\n",
        "column_names = [\"sepal_length\", \"sepal_width\", \"petal_length\", \"petal_width\",\"variety\"]\n",
        "df = pd.DataFrame(hasil, columns=column_names)\n",
        "df.head()"
      ]
    }
  ],
  "metadata": {
    "kernelspec": {
      "display_name": "Python 3 (ipykernel)",
      "language": "python",
      "name": "python3"
    },
    "language_info": {
      "codemirror_mode": {
        "name": "ipython",
        "version": 3
      },
      "file_extension": ".py",
      "mimetype": "text/x-python",
      "name": "python",
      "nbconvert_exporter": "python",
      "pygments_lexer": "ipython3",
      "version": "3.10.11"
    },
    "colab": {
      "provenance": []
    }
  },
  "nbformat": 4,
  "nbformat_minor": 5
}